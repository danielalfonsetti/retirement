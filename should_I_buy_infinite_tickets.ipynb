{
 "cells": [
  {
   "cell_type": "code",
   "execution_count": 13,
   "metadata": {},
   "outputs": [
    {
     "name": "stderr",
     "output_type": "stream",
     "text": [
      "INFO:root:Cash jackpot mode selected. Jackpot amount: $625,000,000\n",
      "INFO:root:ticket_price=$2\n",
      "INFO:root:effective_tax_rate=0.37\n",
      "INFO:root:expected_value_post_tax=$1.46\n",
      "INFO:root:break_event_point=$885,933,250.1571822\n",
      "INFO:root:Expected value of the ticket post tax ($1.46) is less than the ticket price (2). Wait until the jackpot price reaches $885,933,250.1571822 or more.\n"
     ]
    }
   ],
   "source": [
    "import numpy as np \n",
    "from typing import Optional \n",
    "import logging\n",
    "logging.basicConfig(level=logging.INFO)\n",
    "def should_I_buy_infinite_tickets_v2(\n",
    "        ticket_price : int = 2, \n",
    "        cash : Optional[int] = 625_000_000,\n",
    "        annunity : Optional[int] = None,\n",
    "        effective_tax_rate : float = 0.37, # https://www.usatoday.com/story/graphics/2023/01/10/mega-millions-jackpot-lottery-taxes/11001363002/\n",
    ") -> bool: \n",
    "    \"\"\" Version 2 considers the non jackpot prizes and their probabilities in the calculation.\"\"\"\n",
    "\n",
    "    # TODO: make a graph of jackpot vs break even ticket prize\n",
    "    # TODO: consider inflation in annunity mode\n",
    "    if (annunity is None) == (cash is None): \n",
    "        raise ValueError(f\"Exactly one of `annunity` and `cash` must be None. {annunity=}. {cash=} \")\n",
    "    if annunity is not None:\n",
    "        jackpot = annunity \n",
    "        logging.info(f\"Annunity mode selected. Total annunity amount: ${format(annunity, ',')}\")\n",
    "        logging.warning(f\"We assume the effective tax rate ({effective_tax_rate}) is the same  over the lifetime of the annunity. We do not account for inflation\")\n",
    "    else: \n",
    "        logging.info(f\"Cash jackpot mode selected. Jackpot amount: ${format(cash, ',')}\")\n",
    "        jackpot = cash\n",
    "\n",
    "\n",
    "    logging.info(f\"ticket_price=${ticket_price}\")    \n",
    "    logging.info(f\"{effective_tax_rate=}\")\n",
    "\n",
    "\n",
    "    # Prizes and probabilities from: https://www.megamillions.com/How-to-Play.aspx\n",
    "    prizes = np.array([jackpot, 1_000_000, 10_000, 500, 200, 10, 10, 4, 2])\n",
    "    probabilities = np.array([1/302_575_350, 1/12_607_306, 1/931_001, 1/38_792, 1/14_547, 1/606, 1/693, 1/89, 1/37])\n",
    "\n",
    "    prizes_post_tax = prizes * (1 - effective_tax_rate) # For now, naively just apply the hightest tax rate to each price. Probably not a big issue since expected value is dominated by the largest prizes which get the highest tax rate.\n",
    "\n",
    "\n",
    "    scaled_prizes = probabilities * prizes_post_tax\n",
    "    expected_value_post_tax = sum(scaled_prizes)\n",
    "    logging.info(f\"expected_value_post_tax=${format(round(expected_value_post_tax, 2), ',')}\")\n",
    "\n",
    "    # break even point is the point where the jackpot amount is large enough such that the expected value of the ticket equals the ticket prize. We therefore solve the following equation for 'break_even_jackpot'\n",
    "    # ticket_price = (1 - effective_tax_rate) * break_even_jackpot * probability_of_winning_jackpot + expected_value_for_non_jackpot_prizes \n",
    "    # break_even_jackpot = (ticket_price - expected value for non jackpot prizes) /  ((1 - effective_tax_rate) * probability_of_winning_jackpot)\n",
    "    break_even_jackpot = (ticket_price - sum(scaled_prizes[1:])) / ((1 - effective_tax_rate) * probabilities[0])\n",
    "    logging.info(f\"break_event_point=${format(break_even_jackpot, ',')}\")\n",
    "\n",
    "    if expected_value_post_tax >= ticket_price:\n",
    "        logging.info(f\"Expected value of the ticket post tax (${round(expected_value_post_tax, 2)}) is greater than or equal to ticket price (${ticket_price}). You should buy infinite tickets.\")\n",
    "        return True \n",
    "    else: \n",
    "        logging.info(f\"Expected value of the ticket post tax (${round(expected_value_post_tax, 2)}) is less than the ticket price ({ticket_price}). Wait until the {'annuity total' if annunity is not None else 'jackpot price'} reaches ${format(break_even_jackpot, ',')} or more.\")\n",
    "\n",
    "should_I_buy_infinite_tickets_v2()"
   ]
  },
  {
   "cell_type": "code",
   "execution_count": null,
   "metadata": {},
   "outputs": [],
   "source": []
  }
 ],
 "metadata": {
  "kernelspec": {
   "display_name": "alfonsetti_base",
   "language": "python",
   "name": "python3"
  },
  "language_info": {
   "codemirror_mode": {
    "name": "ipython",
    "version": 3
   },
   "file_extension": ".py",
   "mimetype": "text/x-python",
   "name": "python",
   "nbconvert_exporter": "python",
   "pygments_lexer": "ipython3",
   "version": "3.11.3"
  },
  "orig_nbformat": 4
 },
 "nbformat": 4,
 "nbformat_minor": 2
}
