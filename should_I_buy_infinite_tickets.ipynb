{
 "cells": [
  {
   "cell_type": "code",
   "execution_count": 21,
   "metadata": {},
   "outputs": [
    {
     "name": "stderr",
     "output_type": "stream",
     "text": [
      "INFO:root:Cash jackpot mode selected. Jackpot amount: $625,000,000\n",
      "INFO:root:ticket_price=$2\n",
      "INFO:root:winning_probability=3.3333333333333334e-09\n",
      "INFO:root:effective_tax_rate=0.37\n",
      "INFO:root:expected_value_pre_tax=$2.08\n",
      "INFO:root:expected_value_post_tax=$1.31\n",
      "INFO:root:break_event_point=$1,621,621,621.62\n",
      "INFO:root:Expected value of the ticket post tax ($1.3125) is less than the ticket price (2). Wait until the jackpot price reaches $1,621,621,621.62 or more.\n"
     ]
    }
   ],
   "source": [
    "from typing import Optional \n",
    "import logging\n",
    "logging.basicConfig(level=logging.INFO)\n",
    "def should_I_buy_infinite_tickets(\n",
    "        ticket_price : int = 2, \n",
    "        cash : Optional[int] = 625_000_000,\n",
    "        annunity : Optional[int] = None,\n",
    "        effective_tax_rate : float = 0.37, # https://www.usatoday.com/story/graphics/2023/01/10/mega-millions-jackpot-lottery-taxes/11001363002/\n",
    "        winning_probability : float = 1 / 300_000_000 # https://apnews.com/article/powerball-mega-millions-winning-odds-numbers-a3e5a8e8e7ed15d7500c1d6acdab6785\n",
    ") -> bool: \n",
    "    if (annunity is None) == (cash is None): \n",
    "        raise ValueError(f\"Exactly one of `annunity` and `cash` must be None. {annunity=}. {cash=} \")\n",
    "    if annunity is not None:\n",
    "        prize = annunity \n",
    "        logging.info(f\"Annunity mode selected. Total annunity amount: ${format(annunity, ',')}\")\n",
    "        logging.warning(f\"We assume the effective tax rate ({effective_tax_rate}) is the same  over the lifetime of the annunity. We do not account for inflation\")\n",
    "    else: \n",
    "        logging.info(f\"Cash jackpot mode selected. Jackpot amount: ${format(cash, ',')}\")\n",
    "        prize = cash\n",
    "    logging.info(f\"ticket_price=${ticket_price}\")    \n",
    "    logging.info(f\"{winning_probability=}\")\n",
    "    logging.info(f\"{effective_tax_rate=}\")\n",
    "\n",
    "    expected_value_pre_tax = winning_probability * prize\n",
    "    logging.info(f\"expected_value_pre_tax=${format(round(expected_value_pre_tax, 2), ',')}\")\n",
    "    expected_value_post_tax = expected_value_pre_tax * (1 - effective_tax_rate)\n",
    "    logging.info(f\"expected_value_post_tax=${format(round(expected_value_post_tax, 2), ',')}\")\n",
    "\n",
    "    break_event_point = round(ticket_price / (effective_tax_rate * winning_probability), 2) \n",
    "    logging.info(f\"break_event_point=${format(break_event_point, ',')}\")\n",
    "\n",
    "    if expected_value_post_tax >= ticket_price:\n",
    "        logging.info(f\"Expected value of the ticket post tax (${expected_value_post_tax}) is greater than or equal to ticket price (${ticket_price}). You should buy infinite tickets.\")\n",
    "        return True \n",
    "    else: \n",
    "        logging.info(f\"Expected value of the ticket post tax (${expected_value_post_tax}) is less than the ticket price (${ticket_price}). Wait until the {'annuity total' if annunity is not None else 'jackpot price'} reaches ${format(break_event_point, ',')} or more.\")\n",
    "\n",
    "should_I_buy_infinite_tickets()"
   ]
  },
  {
   "cell_type": "code",
   "execution_count": null,
   "metadata": {},
   "outputs": [],
   "source": []
  }
 ],
 "metadata": {
  "kernelspec": {
   "display_name": "alfonsetti_base",
   "language": "python",
   "name": "python3"
  },
  "language_info": {
   "codemirror_mode": {
    "name": "ipython",
    "version": 3
   },
   "file_extension": ".py",
   "mimetype": "text/x-python",
   "name": "python",
   "nbconvert_exporter": "python",
   "pygments_lexer": "ipython3",
   "version": "3.11.3"
  },
  "orig_nbformat": 4
 },
 "nbformat": 4,
 "nbformat_minor": 2
}
