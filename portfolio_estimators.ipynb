{
 "cells": [
  {
   "cell_type": "code",
   "execution_count": 4,
   "metadata": {},
   "outputs": [],
   "source": [
    "# Estimator \n",
    "yearly_dividend_portfolio_yield = 0.08\n",
    "monthly_dividend_portfolio_yield = yearly_dividend_portfolio_yield/12 \n",
    "yearly_inflation = 0.08 \n",
    "yearly_salary_raise = 0.05\n",
    "\n",
    "dividend_portfolio = 100000 # start amount in dividend portfolio (i.e. what is there right now)\n",
    "# 200k per year, palo alto is 34%. Pittsburgh is 30.35%. Bala Cynwyd is 29.35%\n",
    "tax_burden = 0.35 # https://smartasset.com/taxes/income-taxes#Q7k8aHiylc\n",
    "yearly_w2 = 250000*(1-tax_burden)\n",
    "monthly_w2 = yearly_w2/12\n",
    "monthly_living_costs= 3500\n",
    "bonus = 50000\n",
    "\n",
    "months = 0 \n",
    "while monthly_dividend_portfolio_yield*dividend_portfolio < monthly_living_costs: \n",
    "\n",
    "    if months % 12 == 0: \n",
    "        # apply bonus\n",
    "        dividend_portfolio += bonus\n",
    "\n",
    "        # adjust rates \n",
    "        monthly_living_costs *= (1+yearly_inflation)\n",
    "        monthly_w2 *= (1+yearly_salary_raise)\n",
    "        bonus *= (1+yearly_salary_raise)\n",
    "\n",
    "    amount_added_this_month = monthly_dividend_portfolio_yield*dividend_portfolio+monthly_w2 \n",
    "    dividend_portfolio += amount_added_this_month\n",
    "    months += 1\n",
    "\n",
    "# Note: Tax burden will increase with increasing salary over the years. That is not reflected in the estimate. Therefore the estimate becomes less accurate over longer time horizons."
   ]
  },
  {
   "cell_type": "code",
   "execution_count": 5,
   "metadata": {},
   "outputs": [
    {
     "name": "stdout",
     "output_type": "stream",
     "text": [
      "number of years till dividends cover cost of living:  2.0833333333333335\n",
      "monthly_living_costs=4408.992000000001\n"
     ]
    }
   ],
   "source": [
    "print(\"number of years till dividends cover cost of living: \", months/12)\n",
    "print(f\"{monthly_living_costs=}\")"
   ]
  },
  {
   "cell_type": "code",
   "execution_count": 6,
   "metadata": {},
   "outputs": [
    {
     "name": "stdout",
     "output_type": "stream",
     "text": [
      "Today:  2023/05/29\n",
      "After Month: 2025/06/29\n"
     ]
    }
   ],
   "source": [
    "import datetime \n",
    "from dateutil.relativedelta import relativedelta\n",
    "\n",
    "date_after_month = datetime.date.today() + relativedelta(months=months)\n",
    "print('Today: ', datetime.date.today().strftime('%Y/%m/%d'))\n",
    "print('After Month:', date_after_month.strftime('%Y/%m/%d'))"
   ]
  }
 ],
 "metadata": {
  "interpreter": {
   "hash": "aee8b7b246df8f9039afb4144a1f6fd8d2ca17a180786b69acc140d282b71a49"
  },
  "kernelspec": {
   "display_name": "Python 3.9.5 64-bit",
   "language": "python",
   "name": "python3"
  },
  "language_info": {
   "codemirror_mode": {
    "name": "ipython",
    "version": 3
   },
   "file_extension": ".py",
   "mimetype": "text/x-python",
   "name": "python",
   "nbconvert_exporter": "python",
   "pygments_lexer": "ipython3",
   "version": "3.11.3"
  },
  "orig_nbformat": 4
 },
 "nbformat": 4,
 "nbformat_minor": 2
}
