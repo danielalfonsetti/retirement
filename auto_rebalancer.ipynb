{
 "cells": [
  {
   "cell_type": "markdown",
   "metadata": {},
   "source": [
    "Given AMOUNT_TO_INVEST dollars, how much of each symbol do I have to buy in order to make the PctPosition as close to 25% as possible?"
   ]
  },
  {
   "cell_type": "code",
   "execution_count": 23,
   "metadata": {},
   "outputs": [],
   "source": [
    "import pandas as pd \n",
    "\n",
    "AMOUNT_TO_INVEST = 1000\n",
    "my_df = pd.DataFrame({\n",
    "    \"Symbol\": [\"JEPI\", \"DIVO\", \"NUSI\", \"QYLD\"],\n",
    "    \"Price\": [59.62,  36.19, 23.75, 19.67],\n",
    "    \"MyCurrentPosition\" : [59.62, 36.33, 47.81, 39.73]\n",
    "})"
   ]
  },
  {
   "cell_type": "code",
   "execution_count": 24,
   "metadata": {},
   "outputs": [],
   "source": [
    "my_df['MyCurrentPctPosition'] = my_df['MyCurrentPosition'] / my_df['MyCurrentPosition'].sum() * 100 \n"
   ]
  },
  {
   "cell_type": "code",
   "execution_count": 25,
   "metadata": {},
   "outputs": [],
   "source": [
    "from collections import defaultdict\n",
    "\n",
    "# step 1: Choose symbol with lowest MyCurrentPctPosition that we have enough money to buy\n",
    "# step 2: Buy 1 of symbol chosen in step 1. Subtract it from \"AMOUNT_TO_INVEST\"\n",
    "# step 3: recalculate my_df\n",
    "# step 4: repeat steps 1-3 until we can't buy anything\n",
    "AMOUNT_TO_INVEST_REMAINING = AMOUNT_TO_INVEST\n",
    "answer_df = my_df.copy() \n",
    "\n",
    "amount_bought = defaultdict(int)\n",
    "\n",
    "while True:\n",
    "    copy_df = answer_df.copy()\n",
    "    chosen_row = None \n",
    "    while copy_df.shape[0] > 0 : \n",
    "        candidate_row = copy_df.loc[copy_df.MyCurrentPctPosition == copy_df.MyCurrentPctPosition.min()]\n",
    "        if candidate_row.Price.values[0] < AMOUNT_TO_INVEST_REMAINING:\n",
    "            chosen_row= candidate_row\n",
    "            break \n",
    "        else:\n",
    "            copy_df = copy_df.loc[copy_df.MyCurrentPctPosition != copy_df.MyCurrentPctPosition.min()]\n",
    "\n",
    "    if chosen_row is None: \n",
    "        break \n",
    "    else: \n",
    "        amount_bought[chosen_row.Symbol.values[0]] += 1\n",
    "\n",
    "        row_to_update = answer_df.loc[answer_df.Symbol == chosen_row.Symbol.values[0]]\n",
    "        row_to_update.MyCurrentPosition.values[0] += row_to_update.Price.values[0]\n",
    "        AMOUNT_TO_INVEST_REMAINING -= row_to_update.Price.values[0]\n",
    "        answer_df.loc[answer_df.Symbol == chosen_row.Symbol.values[0]] = row_to_update\n",
    "        answer_df['MyCurrentPctPosition'] = answer_df['MyCurrentPosition'] / answer_df['MyCurrentPosition'].sum() * 100"
   ]
  },
  {
   "cell_type": "code",
   "execution_count": 26,
   "metadata": {},
   "outputs": [
    {
     "name": "stdout",
     "output_type": "stream",
     "text": [
      "defaultdict(<class 'int'>, {'DIVO': 35, 'QYLD': 63, 'NUSI': 52, 'JEPI': 21})\n"
     ]
    },
    {
     "data": {
      "text/html": [
       "<div>\n",
       "<style scoped>\n",
       "    .dataframe tbody tr th:only-of-type {\n",
       "        vertical-align: middle;\n",
       "    }\n",
       "\n",
       "    .dataframe tbody tr th {\n",
       "        vertical-align: top;\n",
       "    }\n",
       "\n",
       "    .dataframe thead th {\n",
       "        text-align: right;\n",
       "    }\n",
       "</style>\n",
       "<table border=\"1\" class=\"dataframe\">\n",
       "  <thead>\n",
       "    <tr style=\"text-align: right;\">\n",
       "      <th></th>\n",
       "      <th>Symbol</th>\n",
       "      <th>Price</th>\n",
       "      <th>MyCurrentPosition</th>\n",
       "      <th>MyCurrentPctPosition</th>\n",
       "    </tr>\n",
       "  </thead>\n",
       "  <tbody>\n",
       "    <tr>\n",
       "      <th>0</th>\n",
       "      <td>JEPI</td>\n",
       "      <td>59.62</td>\n",
       "      <td>1311.64</td>\n",
       "      <td>25.338992</td>\n",
       "    </tr>\n",
       "    <tr>\n",
       "      <th>1</th>\n",
       "      <td>DIVO</td>\n",
       "      <td>36.19</td>\n",
       "      <td>1302.98</td>\n",
       "      <td>25.171694</td>\n",
       "    </tr>\n",
       "    <tr>\n",
       "      <th>2</th>\n",
       "      <td>NUSI</td>\n",
       "      <td>23.75</td>\n",
       "      <td>1282.81</td>\n",
       "      <td>24.782038</td>\n",
       "    </tr>\n",
       "    <tr>\n",
       "      <th>3</th>\n",
       "      <td>QYLD</td>\n",
       "      <td>19.67</td>\n",
       "      <td>1278.94</td>\n",
       "      <td>24.707276</td>\n",
       "    </tr>\n",
       "  </tbody>\n",
       "</table>\n",
       "</div>"
      ],
      "text/plain": [
       "  Symbol  Price  MyCurrentPosition  MyCurrentPctPosition\n",
       "0   JEPI  59.62            1311.64             25.338992\n",
       "1   DIVO  36.19            1302.98             25.171694\n",
       "2   NUSI  23.75            1282.81             24.782038\n",
       "3   QYLD  19.67            1278.94             24.707276"
      ]
     },
     "execution_count": 26,
     "metadata": {},
     "output_type": "execute_result"
    }
   ],
   "source": [
    "AMOUNT_TO_INVEST_REMAINING\n",
    "print(amount_bought)\n",
    "answer_df"
   ]
  },
  {
   "cell_type": "code",
   "execution_count": 27,
   "metadata": {},
   "outputs": [
    {
     "data": {
      "text/html": [
       "<div>\n",
       "<style scoped>\n",
       "    .dataframe tbody tr th:only-of-type {\n",
       "        vertical-align: middle;\n",
       "    }\n",
       "\n",
       "    .dataframe tbody tr th {\n",
       "        vertical-align: top;\n",
       "    }\n",
       "\n",
       "    .dataframe thead th {\n",
       "        text-align: right;\n",
       "    }\n",
       "</style>\n",
       "<table border=\"1\" class=\"dataframe\">\n",
       "  <thead>\n",
       "    <tr style=\"text-align: right;\">\n",
       "      <th></th>\n",
       "      <th>Symbol</th>\n",
       "      <th>Price</th>\n",
       "      <th>MyCurrentPosition</th>\n",
       "      <th>MyCurrentPctPosition</th>\n",
       "    </tr>\n",
       "  </thead>\n",
       "  <tbody>\n",
       "    <tr>\n",
       "      <th>0</th>\n",
       "      <td>JEPI</td>\n",
       "      <td>59.62</td>\n",
       "      <td>59.62</td>\n",
       "      <td>32.492234</td>\n",
       "    </tr>\n",
       "    <tr>\n",
       "      <th>1</th>\n",
       "      <td>DIVO</td>\n",
       "      <td>36.19</td>\n",
       "      <td>36.33</td>\n",
       "      <td>19.799444</td>\n",
       "    </tr>\n",
       "    <tr>\n",
       "      <th>2</th>\n",
       "      <td>NUSI</td>\n",
       "      <td>23.75</td>\n",
       "      <td>47.81</td>\n",
       "      <td>26.055916</td>\n",
       "    </tr>\n",
       "    <tr>\n",
       "      <th>3</th>\n",
       "      <td>QYLD</td>\n",
       "      <td>19.67</td>\n",
       "      <td>39.73</td>\n",
       "      <td>21.652406</td>\n",
       "    </tr>\n",
       "  </tbody>\n",
       "</table>\n",
       "</div>"
      ],
      "text/plain": [
       "  Symbol  Price  MyCurrentPosition  MyCurrentPctPosition\n",
       "0   JEPI  59.62              59.62             32.492234\n",
       "1   DIVO  36.19              36.33             19.799444\n",
       "2   NUSI  23.75              47.81             26.055916\n",
       "3   QYLD  19.67              39.73             21.652406"
      ]
     },
     "execution_count": 27,
     "metadata": {},
     "output_type": "execute_result"
    }
   ],
   "source": [
    "my_df"
   ]
  },
  {
   "cell_type": "code",
   "execution_count": 28,
   "metadata": {},
   "outputs": [
    {
     "name": "stdout",
     "output_type": "stream",
     "text": [
      "5183.490000000001\n",
      "5183.49\n"
     ]
    }
   ],
   "source": [
    "print(answer_df.MyCurrentPosition.sum()+AMOUNT_TO_INVEST_REMAINING)\n",
    "print(my_df.MyCurrentPosition.sum()+AMOUNT_TO_INVEST)"
   ]
  },
  {
   "cell_type": "code",
   "execution_count": null,
   "metadata": {},
   "outputs": [],
   "source": []
  }
 ],
 "metadata": {
  "interpreter": {
   "hash": "aee8b7b246df8f9039afb4144a1f6fd8d2ca17a180786b69acc140d282b71a49"
  },
  "kernelspec": {
   "display_name": "Python 3.9.5 64-bit",
   "language": "python",
   "name": "python3"
  },
  "language_info": {
   "codemirror_mode": {
    "name": "ipython",
    "version": 3
   },
   "file_extension": ".py",
   "mimetype": "text/x-python",
   "name": "python",
   "nbconvert_exporter": "python",
   "pygments_lexer": "ipython3",
   "version": "3.9.5"
  },
  "orig_nbformat": 4
 },
 "nbformat": 4,
 "nbformat_minor": 2
}
